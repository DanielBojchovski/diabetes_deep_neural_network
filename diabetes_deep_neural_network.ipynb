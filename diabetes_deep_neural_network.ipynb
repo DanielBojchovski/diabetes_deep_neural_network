{
  "nbformat": 4,
  "nbformat_minor": 0,
  "metadata": {
    "colab": {
      "name": "diabetes_deep_neural_network.ipynb",
      "provenance": [],
      "collapsed_sections": [],
      "authorship_tag": "ABX9TyPFvoUGvrxCV/99tbLjZssd",
      "include_colab_link": true
    },
    "kernelspec": {
      "name": "python3",
      "display_name": "Python 3"
    },
    "language_info": {
      "name": "python"
    }
  },
  "cells": [
    {
      "cell_type": "markdown",
      "metadata": {
        "id": "view-in-github",
        "colab_type": "text"
      },
      "source": [
        "<a href=\"https://colab.research.google.com/github/DanielBojchovski/diabetes_deep_neural_network/blob/main/diabetes_deep_neural_network.ipynb\" target=\"_parent\"><img src=\"https://colab.research.google.com/assets/colab-badge.svg\" alt=\"Open In Colab\"/></a>"
      ]
    },
    {
      "cell_type": "markdown",
      "source": [
        "Importing the Dependencies"
      ],
      "metadata": {
        "id": "dSNm2f90cP7N"
      }
    },
    {
      "cell_type": "code",
      "source": [
        "import numpy as np\n",
        "import pandas as pd\n",
        "import matplotlib.pyplot as plt\n",
        "from sklearn.model_selection import train_test_split"
      ],
      "metadata": {
        "id": "X3yUWjzKcUKs"
      },
      "execution_count": 1,
      "outputs": []
    },
    {
      "cell_type": "markdown",
      "source": [
        "Data Collection & Processing\n"
      ],
      "metadata": {
        "id": "zRUF_3ulcfMB"
      }
    },
    {
      "cell_type": "code",
      "source": [
        "data_frame = pd.read_csv(\"/content/sample_data/diabetes.csv\")"
      ],
      "metadata": {
        "id": "fiDUUQ1xcfi-"
      },
      "execution_count": 2,
      "outputs": []
    },
    {
      "cell_type": "code",
      "source": [
        "# print the first 5 rows of the dataframe\n",
        "data_frame.head()"
      ],
      "metadata": {
        "colab": {
          "base_uri": "https://localhost:8080/",
          "height": 206
        },
        "id": "M9znIUGucyK9",
        "outputId": "31461a9b-57c3-4327-b4d9-7d4b81762a0f"
      },
      "execution_count": 3,
      "outputs": [
        {
          "output_type": "execute_result",
          "data": {
            "text/plain": [
              "   Pregnancies  Glucose  BloodPressure  SkinThickness  Insulin   BMI  \\\n",
              "0            6      148             72             35        0  33.6   \n",
              "1            1       85             66             29        0  26.6   \n",
              "2            8      183             64              0        0  23.3   \n",
              "3            1       89             66             23       94  28.1   \n",
              "4            0      137             40             35      168  43.1   \n",
              "\n",
              "   DiabetesPedigreeFunction  Age  Outcome  \n",
              "0                     0.627   50        1  \n",
              "1                     0.351   31        0  \n",
              "2                     0.672   32        1  \n",
              "3                     0.167   21        0  \n",
              "4                     2.288   33        1  "
            ],
            "text/html": [
              "\n",
              "  <div id=\"df-631216c8-53f6-4818-b4bf-fa09d3dab047\">\n",
              "    <div class=\"colab-df-container\">\n",
              "      <div>\n",
              "<style scoped>\n",
              "    .dataframe tbody tr th:only-of-type {\n",
              "        vertical-align: middle;\n",
              "    }\n",
              "\n",
              "    .dataframe tbody tr th {\n",
              "        vertical-align: top;\n",
              "    }\n",
              "\n",
              "    .dataframe thead th {\n",
              "        text-align: right;\n",
              "    }\n",
              "</style>\n",
              "<table border=\"1\" class=\"dataframe\">\n",
              "  <thead>\n",
              "    <tr style=\"text-align: right;\">\n",
              "      <th></th>\n",
              "      <th>Pregnancies</th>\n",
              "      <th>Glucose</th>\n",
              "      <th>BloodPressure</th>\n",
              "      <th>SkinThickness</th>\n",
              "      <th>Insulin</th>\n",
              "      <th>BMI</th>\n",
              "      <th>DiabetesPedigreeFunction</th>\n",
              "      <th>Age</th>\n",
              "      <th>Outcome</th>\n",
              "    </tr>\n",
              "  </thead>\n",
              "  <tbody>\n",
              "    <tr>\n",
              "      <th>0</th>\n",
              "      <td>6</td>\n",
              "      <td>148</td>\n",
              "      <td>72</td>\n",
              "      <td>35</td>\n",
              "      <td>0</td>\n",
              "      <td>33.6</td>\n",
              "      <td>0.627</td>\n",
              "      <td>50</td>\n",
              "      <td>1</td>\n",
              "    </tr>\n",
              "    <tr>\n",
              "      <th>1</th>\n",
              "      <td>1</td>\n",
              "      <td>85</td>\n",
              "      <td>66</td>\n",
              "      <td>29</td>\n",
              "      <td>0</td>\n",
              "      <td>26.6</td>\n",
              "      <td>0.351</td>\n",
              "      <td>31</td>\n",
              "      <td>0</td>\n",
              "    </tr>\n",
              "    <tr>\n",
              "      <th>2</th>\n",
              "      <td>8</td>\n",
              "      <td>183</td>\n",
              "      <td>64</td>\n",
              "      <td>0</td>\n",
              "      <td>0</td>\n",
              "      <td>23.3</td>\n",
              "      <td>0.672</td>\n",
              "      <td>32</td>\n",
              "      <td>1</td>\n",
              "    </tr>\n",
              "    <tr>\n",
              "      <th>3</th>\n",
              "      <td>1</td>\n",
              "      <td>89</td>\n",
              "      <td>66</td>\n",
              "      <td>23</td>\n",
              "      <td>94</td>\n",
              "      <td>28.1</td>\n",
              "      <td>0.167</td>\n",
              "      <td>21</td>\n",
              "      <td>0</td>\n",
              "    </tr>\n",
              "    <tr>\n",
              "      <th>4</th>\n",
              "      <td>0</td>\n",
              "      <td>137</td>\n",
              "      <td>40</td>\n",
              "      <td>35</td>\n",
              "      <td>168</td>\n",
              "      <td>43.1</td>\n",
              "      <td>2.288</td>\n",
              "      <td>33</td>\n",
              "      <td>1</td>\n",
              "    </tr>\n",
              "  </tbody>\n",
              "</table>\n",
              "</div>\n",
              "      <button class=\"colab-df-convert\" onclick=\"convertToInteractive('df-631216c8-53f6-4818-b4bf-fa09d3dab047')\"\n",
              "              title=\"Convert this dataframe to an interactive table.\"\n",
              "              style=\"display:none;\">\n",
              "        \n",
              "  <svg xmlns=\"http://www.w3.org/2000/svg\" height=\"24px\"viewBox=\"0 0 24 24\"\n",
              "       width=\"24px\">\n",
              "    <path d=\"M0 0h24v24H0V0z\" fill=\"none\"/>\n",
              "    <path d=\"M18.56 5.44l.94 2.06.94-2.06 2.06-.94-2.06-.94-.94-2.06-.94 2.06-2.06.94zm-11 1L8.5 8.5l.94-2.06 2.06-.94-2.06-.94L8.5 2.5l-.94 2.06-2.06.94zm10 10l.94 2.06.94-2.06 2.06-.94-2.06-.94-.94-2.06-.94 2.06-2.06.94z\"/><path d=\"M17.41 7.96l-1.37-1.37c-.4-.4-.92-.59-1.43-.59-.52 0-1.04.2-1.43.59L10.3 9.45l-7.72 7.72c-.78.78-.78 2.05 0 2.83L4 21.41c.39.39.9.59 1.41.59.51 0 1.02-.2 1.41-.59l7.78-7.78 2.81-2.81c.8-.78.8-2.07 0-2.86zM5.41 20L4 18.59l7.72-7.72 1.47 1.35L5.41 20z\"/>\n",
              "  </svg>\n",
              "      </button>\n",
              "      \n",
              "  <style>\n",
              "    .colab-df-container {\n",
              "      display:flex;\n",
              "      flex-wrap:wrap;\n",
              "      gap: 12px;\n",
              "    }\n",
              "\n",
              "    .colab-df-convert {\n",
              "      background-color: #E8F0FE;\n",
              "      border: none;\n",
              "      border-radius: 50%;\n",
              "      cursor: pointer;\n",
              "      display: none;\n",
              "      fill: #1967D2;\n",
              "      height: 32px;\n",
              "      padding: 0 0 0 0;\n",
              "      width: 32px;\n",
              "    }\n",
              "\n",
              "    .colab-df-convert:hover {\n",
              "      background-color: #E2EBFA;\n",
              "      box-shadow: 0px 1px 2px rgba(60, 64, 67, 0.3), 0px 1px 3px 1px rgba(60, 64, 67, 0.15);\n",
              "      fill: #174EA6;\n",
              "    }\n",
              "\n",
              "    [theme=dark] .colab-df-convert {\n",
              "      background-color: #3B4455;\n",
              "      fill: #D2E3FC;\n",
              "    }\n",
              "\n",
              "    [theme=dark] .colab-df-convert:hover {\n",
              "      background-color: #434B5C;\n",
              "      box-shadow: 0px 1px 3px 1px rgba(0, 0, 0, 0.15);\n",
              "      filter: drop-shadow(0px 1px 2px rgba(0, 0, 0, 0.3));\n",
              "      fill: #FFFFFF;\n",
              "    }\n",
              "  </style>\n",
              "\n",
              "      <script>\n",
              "        const buttonEl =\n",
              "          document.querySelector('#df-631216c8-53f6-4818-b4bf-fa09d3dab047 button.colab-df-convert');\n",
              "        buttonEl.style.display =\n",
              "          google.colab.kernel.accessAllowed ? 'block' : 'none';\n",
              "\n",
              "        async function convertToInteractive(key) {\n",
              "          const element = document.querySelector('#df-631216c8-53f6-4818-b4bf-fa09d3dab047');\n",
              "          const dataTable =\n",
              "            await google.colab.kernel.invokeFunction('convertToInteractive',\n",
              "                                                     [key], {});\n",
              "          if (!dataTable) return;\n",
              "\n",
              "          const docLinkHtml = 'Like what you see? Visit the ' +\n",
              "            '<a target=\"_blank\" href=https://colab.research.google.com/notebooks/data_table.ipynb>data table notebook</a>'\n",
              "            + ' to learn more about interactive tables.';\n",
              "          element.innerHTML = '';\n",
              "          dataTable['output_type'] = 'display_data';\n",
              "          await google.colab.output.renderOutput(dataTable, element);\n",
              "          const docLink = document.createElement('div');\n",
              "          docLink.innerHTML = docLinkHtml;\n",
              "          element.appendChild(docLink);\n",
              "        }\n",
              "      </script>\n",
              "    </div>\n",
              "  </div>\n",
              "  "
            ]
          },
          "metadata": {},
          "execution_count": 3
        }
      ]
    },
    {
      "cell_type": "code",
      "source": [
        "# Get the count of Zeros in columns \n",
        "count = (data_frame['Glucose'] == 0).sum()\n",
        "print('Count of zeros in Column  Glucose : ', count)\n",
        "count = (data_frame['BloodPressure'] == 0).sum()\n",
        "print('Count of zeros in Column  BloodPressure : ', count)\n",
        "count = (data_frame['SkinThickness'] == 0).sum()\n",
        "print('Count of zeros in Column  SkinThickness : ', count)\n",
        "count = (data_frame['Insulin'] == 0).sum()\n",
        "print('Count of zeros in Column  Insulin : ', count)\n",
        "count = (data_frame['BMI'] == 0).sum()\n",
        "print('Count of zeros in Column  BMI : ', count)\n",
        "count = (data_frame['DiabetesPedigreeFunction'] == 0).sum()\n",
        "print('Count of zeros in Column  DiabetesPedigreeFunction : ', count)\n",
        "count = (data_frame['Age'] == 0).sum()\n",
        "print('Count of zeros in Column  Age : ', count)"
      ],
      "metadata": {
        "colab": {
          "base_uri": "https://localhost:8080/"
        },
        "id": "Uye3dcWOdLSc",
        "outputId": "3a7c4c5d-f396-43db-d9ef-d63e17293b70"
      },
      "execution_count": 5,
      "outputs": [
        {
          "output_type": "stream",
          "name": "stdout",
          "text": [
            "Count of zeros in Column  Glucose :  5\n",
            "Count of zeros in Column  BloodPressure :  35\n",
            "Count of zeros in Column  SkinThickness :  227\n",
            "Count of zeros in Column  Insulin :  374\n",
            "Count of zeros in Column  BMI :  11\n",
            "Count of zeros in Column  DiabetesPedigreeFunction :  0\n",
            "Count of zeros in Column  Age :  0\n"
          ]
        }
      ]
    },
    {
      "cell_type": "markdown",
      "source": [
        "Replacing the zero values with the mean"
      ],
      "metadata": {
        "id": "9AhTi26Md2DM"
      }
    },
    {
      "cell_type": "code",
      "source": [
        "avg = data_frame['Glucose'].mean()\n",
        "data_frame['Glucose'] = data_frame['Glucose'].replace(0, avg)\n",
        "avg = data_frame['BloodPressure'].mean()\n",
        "data_frame['BloodPressure'] = data_frame['BloodPressure'].replace(0, avg)\n",
        "avg = data_frame['SkinThickness'].mean()\n",
        "data_frame['SkinThickness'] = data_frame['SkinThickness'].replace(0, avg)\n",
        "avg = data_frame['Insulin'].mean()\n",
        "data_frame['Insulin'] = data_frame['Insulin'].replace(0, avg)\n",
        "avg = data_frame['BMI'].mean()\n",
        "data_frame['BMI'] = data_frame['BMI'].replace(0, avg)"
      ],
      "metadata": {
        "id": "xFCGHo4hd9Zd"
      },
      "execution_count": 8,
      "outputs": []
    },
    {
      "cell_type": "markdown",
      "source": [
        "Separating the features and target"
      ],
      "metadata": {
        "id": "dJ8ts10Sgv6L"
      }
    },
    {
      "cell_type": "code",
      "source": [
        "X = data_frame.drop(columns='Outcome', axis=1)\n",
        "Y = data_frame['Outcome']"
      ],
      "metadata": {
        "id": "heI4UUANgwXq"
      },
      "execution_count": 10,
      "outputs": []
    },
    {
      "cell_type": "markdown",
      "source": [
        "Splitting the data into training data & Testing data"
      ],
      "metadata": {
        "id": "ugI3dAz0g_G1"
      }
    },
    {
      "cell_type": "code",
      "source": [
        "X_train, X_test, Y_train, Y_test = train_test_split(X, Y, test_size=0.2, random_state=2)"
      ],
      "metadata": {
        "id": "MKQzUA1ag_aL"
      },
      "execution_count": 11,
      "outputs": []
    },
    {
      "cell_type": "code",
      "source": [
        "print(X.shape, X_train.shape, X_test.shape)"
      ],
      "metadata": {
        "colab": {
          "base_uri": "https://localhost:8080/"
        },
        "id": "gSG8FPpYhDVJ",
        "outputId": "cd6360ff-a846-4dc3-cd98-424f9c098eba"
      },
      "execution_count": 13,
      "outputs": [
        {
          "output_type": "stream",
          "name": "stdout",
          "text": [
            "(768, 8) (614, 8) (154, 8)\n"
          ]
        }
      ]
    },
    {
      "cell_type": "markdown",
      "source": [
        "Standardize the data"
      ],
      "metadata": {
        "id": "XswIa2UbhGwT"
      }
    },
    {
      "cell_type": "code",
      "source": [
        "from sklearn.preprocessing import StandardScaler\n",
        "\n",
        "scaler = StandardScaler()\n",
        "\n",
        "X_train_std = scaler.fit_transform(X_train)\n",
        "\n",
        "X_test_std = scaler.transform(X_test)"
      ],
      "metadata": {
        "id": "-FLkarTJhJ5Q"
      },
      "execution_count": 14,
      "outputs": []
    },
    {
      "cell_type": "markdown",
      "source": [
        "Building the Neural Network"
      ],
      "metadata": {
        "id": "K7Dg6Hp7hQwA"
      }
    },
    {
      "cell_type": "code",
      "source": [
        "import tensorflow as tf \n",
        "tf.random.set_seed(3)\n",
        "from tensorflow import keras"
      ],
      "metadata": {
        "id": "ipm1gLX6hRJf"
      },
      "execution_count": 15,
      "outputs": []
    },
    {
      "cell_type": "code",
      "source": [
        "# setting up the layers of Neural Network\n",
        "\n",
        "model = keras.Sequential([\n",
        "                          keras.layers.Flatten(input_shape=(8,)),\n",
        "                          keras.layers.Dense(20, activation='relu'),\n",
        "                          keras.layers.Dense(2, activation='sigmoid')\n",
        "])"
      ],
      "metadata": {
        "id": "ewJLIYJxhY9c"
      },
      "execution_count": 19,
      "outputs": []
    },
    {
      "cell_type": "code",
      "source": [
        "# compiling the Neural Network\n",
        "\n",
        "model.compile(optimizer='adam',\n",
        "              loss='sparse_categorical_crossentropy',\n",
        "              metrics=['accuracy'])"
      ],
      "metadata": {
        "id": "7Rp8Ih5-heg1"
      },
      "execution_count": 20,
      "outputs": []
    },
    {
      "cell_type": "code",
      "source": [
        "# training the Meural Network\n",
        "\n",
        "history = model.fit(X_train_std, Y_train, validation_split=0.1, epochs=10)"
      ],
      "metadata": {
        "colab": {
          "base_uri": "https://localhost:8080/"
        },
        "id": "D3nd6MqOhgLl",
        "outputId": "f9a2fa5d-a146-4052-e892-2dd33ce7842a"
      },
      "execution_count": 21,
      "outputs": [
        {
          "output_type": "stream",
          "name": "stdout",
          "text": [
            "Epoch 1/10\n",
            "18/18 [==============================] - 1s 12ms/step - loss: 0.7608 - accuracy: 0.5109 - val_loss: 0.7232 - val_accuracy: 0.5806\n",
            "Epoch 2/10\n",
            "18/18 [==============================] - 0s 3ms/step - loss: 0.6929 - accuracy: 0.5815 - val_loss: 0.6459 - val_accuracy: 0.6452\n",
            "Epoch 3/10\n",
            "18/18 [==============================] - 0s 3ms/step - loss: 0.6422 - accuracy: 0.6196 - val_loss: 0.5881 - val_accuracy: 0.6774\n",
            "Epoch 4/10\n",
            "18/18 [==============================] - 0s 3ms/step - loss: 0.6055 - accuracy: 0.6522 - val_loss: 0.5433 - val_accuracy: 0.7097\n",
            "Epoch 5/10\n",
            "18/18 [==============================] - 0s 3ms/step - loss: 0.5800 - accuracy: 0.6721 - val_loss: 0.5109 - val_accuracy: 0.7097\n",
            "Epoch 6/10\n",
            "18/18 [==============================] - 0s 3ms/step - loss: 0.5602 - accuracy: 0.6938 - val_loss: 0.4846 - val_accuracy: 0.7581\n",
            "Epoch 7/10\n",
            "18/18 [==============================] - 0s 3ms/step - loss: 0.5460 - accuracy: 0.7029 - val_loss: 0.4660 - val_accuracy: 0.7742\n",
            "Epoch 8/10\n",
            "18/18 [==============================] - 0s 3ms/step - loss: 0.5347 - accuracy: 0.7065 - val_loss: 0.4477 - val_accuracy: 0.8065\n",
            "Epoch 9/10\n",
            "18/18 [==============================] - 0s 3ms/step - loss: 0.5251 - accuracy: 0.7156 - val_loss: 0.4311 - val_accuracy: 0.8226\n",
            "Epoch 10/10\n",
            "18/18 [==============================] - 0s 3ms/step - loss: 0.5173 - accuracy: 0.7210 - val_loss: 0.4201 - val_accuracy: 0.8387\n"
          ]
        }
      ]
    },
    {
      "cell_type": "markdown",
      "source": [
        "Visualizing accuracy and loss"
      ],
      "metadata": {
        "id": "IjhnddLzhwug"
      }
    },
    {
      "cell_type": "code",
      "source": [
        "plt.plot(history.history['accuracy'])\n",
        "plt.plot(history.history['val_accuracy'])\n",
        "\n",
        "plt.title('model accuracy')\n",
        "plt.ylabel('accuracy')\n",
        "plt.xlabel('epoch')\n",
        "\n",
        "plt.legend(['training data', 'validation data'], loc = 'lower right')"
      ],
      "metadata": {
        "colab": {
          "base_uri": "https://localhost:8080/",
          "height": 313
        },
        "id": "p2_ja28DhxGP",
        "outputId": "d22b3da9-27bb-44ac-b038-1dbe227e079e"
      },
      "execution_count": 26,
      "outputs": [
        {
          "output_type": "execute_result",
          "data": {
            "text/plain": [
              "<matplotlib.legend.Legend at 0x7effd90fdd10>"
            ]
          },
          "metadata": {},
          "execution_count": 26
        },
        {
          "output_type": "display_data",
          "data": {
            "text/plain": [
              "<Figure size 432x288 with 1 Axes>"
            ],
            "image/png": "[encoded data removed]"
          },
          "metadata": {
            "needs_background": "light"
          }
        }
      ]
    },
    {
      "cell_type": "code",
      "source": [
        "plt.plot(history.history['loss'])\n",
        "plt.plot(history.history['val_loss'])\n",
        "\n",
        "plt.title('model loss')\n",
        "plt.ylabel('loss')\n",
        "plt.xlabel('epoch')\n",
        "\n",
        "plt.legend(['training data', 'validation data'], loc = 'upper right')"
      ],
      "metadata": {
        "colab": {
          "base_uri": "https://localhost:8080/",
          "height": 313
        },
        "id": "85WVweCrh_pd",
        "outputId": "f3de96f0-7ae2-4a86-b023-5f80cb38a441"
      },
      "execution_count": 27,
      "outputs": [
        {
          "output_type": "execute_result",
          "data": {
            "text/plain": [
              "<matplotlib.legend.Legend at 0x7effd9082dd0>"
            ]
          },
          "metadata": {},
          "execution_count": 27
        },
        {
          "output_type": "display_data",
          "data": {
            "text/plain": [
              "<Figure size 432x288 with 1 Axes>"
            ],
            "image/png": "[encoded data removed]"
          },
          "metadata": {
            "needs_background": "light"
          }
        }
      ]
    },
    {
      "cell_type": "markdown",
      "source": [
        "Accuracy of the model on test data"
      ],
      "metadata": {
        "id": "rJR6lFJDiZFc"
      }
    },
    {
      "cell_type": "code",
      "source": [
        "loss, accuracy = model.evaluate(X_test_std, Y_test)\n",
        "print(accuracy)\n",
        "\n",
        "print(X_test_std.shape)\n",
        "print(X_test_std[0])"
      ],
      "metadata": {
        "colab": {
          "base_uri": "https://localhost:8080/"
        },
        "id": "dTl3Ze-DiZwo",
        "outputId": "d0a89c42-e7c8-4a13-c517-f8726c437969"
      },
      "execution_count": 28,
      "outputs": [
        {
          "output_type": "stream",
          "name": "stdout",
          "text": [
            "5/5 [==============================] - 0s 4ms/step - loss: 0.5148 - accuracy: 0.7403\n",
            "0.7402597665786743\n",
            "(154, 8)\n",
            "[-0.56211528 -1.12707816  0.13948964 -0.77582494 -0.70033005 -0.48335864\n",
            " -0.72413845 -0.96676677]\n"
          ]
        }
      ]
    },
    {
      "cell_type": "code",
      "source": [
        "Y_pred = model.predict(X_test_std)"
      ],
      "metadata": {
        "id": "n563vgf5igms"
      },
      "execution_count": 29,
      "outputs": []
    },
    {
      "cell_type": "code",
      "source": [
        "print(Y_pred.shape)\n",
        "print(Y_pred[0])"
      ],
      "metadata": {
        "colab": {
          "base_uri": "https://localhost:8080/"
        },
        "id": "KSN3rdylijow",
        "outputId": "9c88b9fc-7eb5-4028-e29a-caede35f889a"
      },
      "execution_count": 30,
      "outputs": [
        {
          "output_type": "stream",
          "name": "stdout",
          "text": [
            "(154, 2)\n",
            "[0.42176205 0.05780235]\n"
          ]
        }
      ]
    },
    {
      "cell_type": "code",
      "source": [
        "print(X_test_std)"
      ],
      "metadata": {
        "colab": {
          "base_uri": "https://localhost:8080/"
        },
        "id": "uMGNCm2einrC",
        "outputId": "d650ede9-10b5-428f-b3d1-82ee5b704371"
      },
      "execution_count": 31,
      "outputs": [
        {
          "output_type": "stream",
          "name": "stdout",
          "text": [
            "[[-0.56211528 -1.12707816  0.13948964 ... -0.48335864 -0.72413845\n",
            "  -0.96676677]\n",
            " [-0.56211528  0.21129397  0.97186592 ... -0.63075238 -0.56253608\n",
            "  -0.53568849]\n",
            " [-1.15412006 -0.67007304  0.47244016 ...  0.32730697 -0.69769443\n",
            "  -0.79433546]\n",
            " ...\n",
            " [-1.15412006  0.30922363  0.47244016 ...  0.0177801  -0.24226957\n",
            "  -1.05298243]\n",
            " [ 0.32589188  0.47243975  2.96956898 ...  2.43503754 -0.7300149\n",
            "   0.32646808]\n",
            " [-0.85811767 -1.61672649 -1.85821342 ... -1.36772111 -0.66831218\n",
            "  -1.05298243]]\n"
          ]
        }
      ]
    },
    {
      "cell_type": "code",
      "source": [
        "print(Y_pred)"
      ],
      "metadata": {
        "colab": {
          "base_uri": "https://localhost:8080/"
        },
        "id": "AdS4ud7FirYs",
        "outputId": "9e557b76-c7dc-4d0e-8b2b-959191e9e733"
      },
      "execution_count": 32,
      "outputs": [
        {
          "output_type": "stream",
          "name": "stdout",
          "text": [
            "[[0.42176205 0.05780235]\n",
            " [0.45304352 0.21741042]\n",
            " [0.5092539  0.20255196]\n",
            " [0.4851161  0.2581658 ]\n",
            " [0.48640475 0.42201838]\n",
            " [0.36865973 0.0564307 ]\n",
            " [0.3332832  0.04507071]\n",
            " [0.27715594 0.22003916]\n",
            " [0.4641401  0.04609871]\n",
            " [0.34844372 0.25295877]\n",
            " [0.49452072 0.39882293]\n",
            " [0.56658816 0.40306538]\n",
            " [0.10797489 0.10758579]\n",
            " [0.29141274 0.22151235]\n",
            " [0.41020647 0.05202642]\n",
            " [0.37891382 0.59464866]\n",
            " [0.280908   0.37566093]\n",
            " [0.3853606  0.02095649]\n",
            " [0.23378232 0.10429314]\n",
            " [0.21772662 0.47969568]\n",
            " [0.25218987 0.64757615]\n",
            " [0.3201666  0.2712162 ]\n",
            " [0.5124946  0.14357752]\n",
            " [0.3970873  0.35128945]\n",
            " [0.48636195 0.08630699]\n",
            " [0.5004031  0.31719583]\n",
            " [0.5151481  0.6942789 ]\n",
            " [0.43545815 0.40132883]\n",
            " [0.44282964 0.28620684]\n",
            " [0.47181094 0.41126755]\n",
            " [0.3966447  0.23876798]\n",
            " [0.4537473  0.65087247]\n",
            " [0.4064402  0.05616388]\n",
            " [0.4192448  0.35263517]\n",
            " [0.30077899 0.42673302]\n",
            " [0.21924645 0.52668554]\n",
            " [0.17230606 0.20753169]\n",
            " [0.28056246 0.5707754 ]\n",
            " [0.4246725  0.3589028 ]\n",
            " [0.45226482 0.06034845]\n",
            " [0.3444243  0.0620003 ]\n",
            " [0.38963798 0.11442086]\n",
            " [0.48020235 0.20883629]\n",
            " [0.41434205 0.15325603]\n",
            " [0.36338842 0.06926787]\n",
            " [0.45448208 0.03936657]\n",
            " [0.5023975  0.34806168]\n",
            " [0.38679093 0.56674695]\n",
            " [0.39296255 0.28751367]\n",
            " [0.21702036 0.03735715]\n",
            " [0.11078069 0.17817378]\n",
            " [0.5184596  0.23967162]\n",
            " [0.5009077  0.4138213 ]\n",
            " [0.40295854 0.45692995]\n",
            " [0.47658017 0.4693163 ]\n",
            " [0.51510984 0.55623186]\n",
            " [0.20954162 0.47234452]\n",
            " [0.4831604  0.43839312]\n",
            " [0.46066436 0.35599905]\n",
            " [0.3916167  0.02212787]\n",
            " [0.38355035 0.40626085]\n",
            " [0.19127718 0.4515283 ]\n",
            " [0.330272   0.42259294]\n",
            " [0.27216896 0.36621124]\n",
            " [0.41345525 0.24386838]\n",
            " [0.44501323 0.44245225]\n",
            " [0.36601335 0.5683334 ]\n",
            " [0.3080306  0.09115899]\n",
            " [0.27678505 0.07150626]\n",
            " [0.38347667 0.4623937 ]\n",
            " [0.33332425 0.10296428]\n",
            " [0.24444538 0.0537464 ]\n",
            " [0.41256392 0.3806713 ]\n",
            " [0.46181208 0.1787431 ]\n",
            " [0.4964458  0.10012174]\n",
            " [0.40504706 0.3094881 ]\n",
            " [0.44884658 0.18664232]\n",
            " [0.4422965  0.05497643]\n",
            " [0.5416134  0.39828756]\n",
            " [0.43499056 0.13582265]\n",
            " [0.37088263 0.09610027]\n",
            " [0.63068473 0.41442624]\n",
            " [0.32126027 0.14141533]\n",
            " [0.2939891  0.15091869]\n",
            " [0.35610557 0.5097812 ]\n",
            " [0.5360448  0.56294686]\n",
            " [0.5237537  0.27446842]\n",
            " [0.38646942 0.1450432 ]\n",
            " [0.38439986 0.3095829 ]\n",
            " [0.5909796  0.62359303]\n",
            " [0.27509102 0.11538133]\n",
            " [0.48109147 0.39995492]\n",
            " [0.38056165 0.209932  ]\n",
            " [0.44431365 0.09121796]\n",
            " [0.5836003  0.35971442]\n",
            " [0.3674587  0.44146866]\n",
            " [0.41585073 0.33479035]\n",
            " [0.40074047 0.46316147]\n",
            " [0.41540736 0.4830138 ]\n",
            " [0.4286796  0.08338684]\n",
            " [0.35679358 0.2126987 ]\n",
            " [0.3239615  0.4409263 ]\n",
            " [0.40637577 0.1353809 ]\n",
            " [0.5405865  0.2409417 ]\n",
            " [0.3426171  0.04129264]\n",
            " [0.26114035 0.02248996]\n",
            " [0.2342765  0.54138637]\n",
            " [0.5791275  0.40323797]\n",
            " [0.32997966 0.08814213]\n",
            " [0.42045465 0.08171585]\n",
            " [0.40314275 0.03525916]\n",
            " [0.39622688 0.21413171]\n",
            " [0.33888215 0.32663807]\n",
            " [0.2931254  0.04660243]\n",
            " [0.47811374 0.39932966]\n",
            " [0.45238155 0.3935645 ]\n",
            " [0.48392326 0.24065354]\n",
            " [0.58105123 0.332828  ]\n",
            " [0.22860417 0.04630524]\n",
            " [0.3242207  0.00851375]\n",
            " [0.40089324 0.5348529 ]\n",
            " [0.46020484 0.27959764]\n",
            " [0.3062777  0.07779849]\n",
            " [0.4899535  0.21771896]\n",
            " [0.44885617 0.20045003]\n",
            " [0.40673995 0.66156006]\n",
            " [0.3240164  0.03606722]\n",
            " [0.4949333  0.35990494]\n",
            " [0.44602185 0.39708668]\n",
            " [0.3658157  0.46342915]\n",
            " [0.34792948 0.33968866]\n",
            " [0.30407685 0.0936043 ]\n",
            " [0.32916775 0.3987808 ]\n",
            " [0.3796625  0.02393016]\n",
            " [0.27570647 0.61029255]\n",
            " [0.341333   0.3459962 ]\n",
            " [0.45256168 0.38031077]\n",
            " [0.5486972  0.40607014]\n",
            " [0.30906376 0.06432557]\n",
            " [0.39182353 0.51979846]\n",
            " [0.47766048 0.14782953]\n",
            " [0.20769504 0.37276116]\n",
            " [0.50753105 0.3200789 ]\n",
            " [0.25723362 0.2164227 ]\n",
            " [0.35823953 0.49948302]\n",
            " [0.37007475 0.09149987]\n",
            " [0.48702267 0.17530882]\n",
            " [0.47278056 0.3682629 ]\n",
            " [0.41639766 0.0566954 ]\n",
            " [0.33560956 0.07706952]\n",
            " [0.28754872 0.0567978 ]\n",
            " [0.38690513 0.14964387]\n",
            " [0.31879818 0.35673606]\n",
            " [0.3288359  0.00504637]]\n"
          ]
        }
      ]
    },
    {
      "cell_type": "code",
      "source": [
        "#  argmax function\n",
        "\n",
        "my_list = [0.25, 0.56]\n",
        "\n",
        "index_of_max_value = np.argmax(my_list)\n",
        "print(my_list)\n",
        "print(index_of_max_value)"
      ],
      "metadata": {
        "colab": {
          "base_uri": "https://localhost:8080/"
        },
        "id": "_-okmi2bi1VR",
        "outputId": "11511357-51fd-4599-f92a-09bd4ff70efe"
      },
      "execution_count": 34,
      "outputs": [
        {
          "output_type": "stream",
          "name": "stdout",
          "text": [
            "[0.25, 0.56]\n",
            "1\n"
          ]
        }
      ]
    },
    {
      "cell_type": "code",
      "source": [
        "# converting the prediction probability to class labels\n",
        "\n",
        "Y_pred_labels = [np.argmax(i) for i in Y_pred]\n",
        "print(Y_pred_labels)"
      ],
      "metadata": {
        "colab": {
          "base_uri": "https://localhost:8080/"
        },
        "id": "_RJ270MdjHBl",
        "outputId": "c742f76c-1a46-4efe-a669-5e8e5f21a8b8"
      },
      "execution_count": 35,
      "outputs": [
        {
          "output_type": "stream",
          "name": "stdout",
          "text": [
            "[0, 0, 0, 0, 0, 0, 0, 0, 0, 0, 0, 0, 0, 0, 0, 1, 1, 0, 0, 1, 1, 0, 0, 0, 0, 0, 1, 0, 0, 0, 0, 1, 0, 0, 1, 1, 1, 1, 0, 0, 0, 0, 0, 0, 0, 0, 0, 1, 0, 0, 1, 0, 0, 1, 0, 1, 1, 0, 0, 0, 1, 1, 1, 1, 0, 0, 1, 0, 0, 1, 0, 0, 0, 0, 0, 0, 0, 0, 0, 0, 0, 0, 0, 0, 1, 1, 0, 0, 0, 1, 0, 0, 0, 0, 0, 1, 0, 1, 1, 0, 0, 1, 0, 0, 0, 0, 1, 0, 0, 0, 0, 0, 0, 0, 0, 0, 0, 0, 0, 0, 1, 0, 0, 0, 0, 1, 0, 0, 0, 1, 0, 0, 1, 0, 1, 1, 0, 0, 0, 1, 0, 1, 0, 0, 1, 0, 0, 0, 0, 0, 0, 0, 1, 0]\n"
          ]
        }
      ]
    },
    {
      "cell_type": "markdown",
      "source": [
        "Building the predictive system"
      ],
      "metadata": {
        "id": "JVmzVQQQjN7_"
      }
    },
    {
      "cell_type": "code",
      "source": [
        "def predict_function(input):\n",
        "\n",
        "  # change the input_data to a numpy array\n",
        "  input_data_as_numpy_array = np.asarray(input)\n",
        "\n",
        "  # reshape the numpy array as we are predicting for one data point\n",
        "  input_data_reshaped = input_data_as_numpy_array.reshape(1,-1)\n",
        "\n",
        "  # standardizing the input data\n",
        "  input_data_std = scaler.transform(input_data_reshaped)\n",
        "\n",
        "  prediction = model.predict(input_data_std)\n",
        "  print(prediction)\n",
        "\n",
        "  prediction_label = [np.argmax(prediction)]\n",
        "  print(prediction_label)\n",
        "\n",
        "  if (prediction_label[0] == 1):\n",
        "    print(\"Diabetic\")\n",
        "  elif (prediction_label[0] == 0):\n",
        "    print(\"Healthy\")"
      ],
      "metadata": {
        "id": "qIyFnPyGjOUG"
      },
      "execution_count": 42,
      "outputs": []
    },
    {
      "cell_type": "code",
      "source": [
        "input_data = (6, 148, 72, 35, 0, 33.6, 0.627, 50)\n",
        "predict_function(input_data)"
      ],
      "metadata": {
        "colab": {
          "base_uri": "https://localhost:8080/"
        },
        "id": "1RHFw2TEjxXz",
        "outputId": "34a0f395-7135-4290-901e-1a5197f0f179"
      },
      "execution_count": 45,
      "outputs": [
        {
          "output_type": "stream",
          "name": "stdout",
          "text": [
            "[[0.42450368 0.5030855 ]]\n",
            "[1]\n",
            "Diabetic\n"
          ]
        },
        {
          "output_type": "stream",
          "name": "stderr",
          "text": [
            "/usr/local/lib/python3.7/dist-packages/sklearn/base.py:451: UserWarning: X does not have valid feature names, but StandardScaler was fitted with feature names\n",
            "  \"X does not have valid feature names, but\"\n"
          ]
        }
      ]
    },
    {
      "cell_type": "code",
      "source": [
        "input_data = (1, 85, 66, 29, 0, 26.6,\t0.351, 31)\n",
        "predict_function(input_data)"
      ],
      "metadata": {
        "colab": {
          "base_uri": "https://localhost:8080/"
        },
        "id": "3ZgbprR_ktCg",
        "outputId": "f26cbe2f-6243-4ab0-da27-1f4a32bda690"
      },
      "execution_count": 46,
      "outputs": [
        {
          "output_type": "stream",
          "name": "stdout",
          "text": [
            "[[0.44172895 0.07065222]]\n",
            "[0]\n",
            "Healthy\n"
          ]
        },
        {
          "output_type": "stream",
          "name": "stderr",
          "text": [
            "/usr/local/lib/python3.7/dist-packages/sklearn/base.py:451: UserWarning: X does not have valid feature names, but StandardScaler was fitted with feature names\n",
            "  \"X does not have valid feature names, but\"\n"
          ]
        }
      ]
    }
  ]
}